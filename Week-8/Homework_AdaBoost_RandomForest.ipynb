{
 "cells": [
  {
   "cell_type": "markdown",
   "metadata": {
    "deletable": false,
    "editable": false
   },
   "source": [
    "<div class=\"alert alert-block alert-info\" >\n",
    "    <h1>Machine Learning: Assignment 5</h1>\n",
    "    <h2>This is a three week assignment</h2>\n",
    "    <h3>General Information:</h3>\n",
    "    <p>Feel free to add cells if required.<br> Feel free to write your own function block to reduce the redundancy.<br> Answers belong into the corresponding cells (below the question). <br><br> If you encounter empty cells underneath the answer that can not be edited, please ignore them, they are for testing purposes.<br><br>When editing an assignment there can be the case that there are variables in the kernel. To make sure your assignment works, please restart the kernel and run all cells before submitting (e.g. via <i>Kernel -> Restart & Run All</i>). We don't consider that respective solution if you make this mistake (no excuse).</p>\n",
    "    <br><br><b> Plot should have axis labels, grid, legend, title, atleast size 10X10 also give proper comments, function name, variable names to your coding, if you didn't follow the instructions there will be a reduction in the points.</b><br><br> \n",
    "     <br><br><b> Write sudo-code if you didn't get output or left out of time so that you will be awarded with atmost 50% of marks for that particular session.</b><br><br>\n",
    "    <h3>Submission:</h3>\n",
    "    <p>Use the following naming convention for your submissions: LA_FirstnameLastname_dateOfLecture, e.g LA_JohnDoe_YYMMDD\n",
    "     <br><br>Please submit your notebook via LEA. The assignment is due on <b>$12^{th}$ June, Saturday at 18:00.</b> </p>\n",
    "    <h3>Group Work:</h3>\n",
    "    <p>You are allowed to work in groups of up to two people. Please enter the UID (your username here) of each member of the group into the next cell. We apply plagiarism checking, so do not submit solutions from other people except your team members. If an assignment has a copied solution, the task will be graded with 0 points for all people with the same solution.</p>\n",
    "    <p><b>YOU SHOULD ONLY SUBMIT EXACTLY ONE PER GROUP</b></p>\n",
    "    <h3>Questions about the Assignment:</h3>\n",
    "    <p>If you have questions about the assignment please post them in the LEA forum before the deadline. Don't wait until the last day to post questions.</p></div>"
   ]
  },
  {
   "cell_type": "code",
   "execution_count": null,
   "metadata": {
    "deletable": false
   },
   "outputs": [],
   "source": [
    "'''\n",
    "Group Work:\n",
    "Enter the UID (i.e. student2s) of each team member into the variables. \n",
    "If you work alone please leave the second variable empty, or extend the list if necessary.\n",
    "'''\n",
    "member1 = ''\n",
    "member2 = ''"
   ]
  },
  {
   "cell_type": "markdown",
   "metadata": {
    "deletable": false,
    "editable": false
   },
   "source": [
    "# Ensembles  [100 points]"
   ]
  },
  {
   "cell_type": "markdown",
   "metadata": {
    "deletable": false,
    "editable": false
   },
   "source": [
    "### Foundation pen dataset  \n",
    "1. The dataset provided consists of 8 classes (folder name) each classes contains 48 files of 30 observations each.\n",
    "2. Total of 12 pens are tested in 4 nest combination with three different velcity (3.4m, 4.5m and 9.0m).\n",
    "3. Each nest has 30 observations.\n",
    "4. The files consists of features and not the raw data.\n",
    "\n",
    "#### Note:- You don't need to watch the Lecture slide 7, 8, 9 to solve this but to understand whats happening you should go through it."
   ]
  },
  {
   "cell_type": "code",
   "execution_count": null,
   "metadata": {
    "deletable": false
   },
   "outputs": [],
   "source": [
    "import numpy as np\n",
    "import matplotlib.pyplot as plt\n",
    "import pandas as pd\n",
    "from scipy import stats\n",
    "import sklearn\n",
    "#Import other libraries here"
   ]
  },
  {
   "cell_type": "markdown",
   "metadata": {
    "deletable": false,
    "editable": false
   },
   "source": [
    "## Task 1: Preprocessing [35 points]"
   ]
  },
  {
   "cell_type": "markdown",
   "metadata": {
    "deletable": false,
    "editable": false
   },
   "source": [
    "### 1. Load the data and display. Below the code cell write the adaboost algorithm (Just the 4 steps, no need explanation)[5 points]"
   ]
  },
  {
   "cell_type": "markdown",
   "metadata": {
    "deletable": false
   },
   "source": [
    "**Write the algorithm here**"
   ]
  },
  {
   "cell_type": "markdown",
   "metadata": {
    "deletable": false,
    "editable": false
   },
   "source": [
    "### 2. Extract the data [20 points]\n",
    "- Extract the data based on velocity 4.5m.\n",
    "- You should crawl into all the folder and combine only the data/file of velocity 4.5m for each class along with the class label.\n",
    "- Remove the insignificant columns (should have 46 column including the class label)\n",
    "- Display as pandas table"
   ]
  },
  {
   "cell_type": "code",
   "execution_count": 24,
   "metadata": {
    "deletable": false
   },
   "outputs": [],
   "source": [
    "def extract_data(filename):\n",
    "    # code here\n",
    "    return\n",
    "\n",
    "# FVL 1-2-3-4 - 3,4m - Nest-1 \n",
    "# folder, pens, velocity, nest\n",
    "# Classify the data according to the folders\n",
    "# ADD new column to pandas ??\n",
    "# Pen order 1, 5, 9\n",
    "# 12 files in total\n",
    "# dropna, repeated values (?)\n",
    "# do classificiation for different nests and different velocities"
   ]
  },
  {
   "cell_type": "markdown",
   "metadata": {
    "deletable": false,
    "editable": false
   },
   "source": [
    "### 3. Correlation [10 points]\n",
    "- Check the correlation between the features. \n",
    "\n",
    "**Hint:** \n",
    "1. Use sklearn library to see correlation between features or \n",
    "2. Reduce the dimensions using PCA/t-SNE to 3D/2D and then visualize"
   ]
  },
  {
   "cell_type": "code",
   "execution_count": 2,
   "metadata": {
    "deletable": false
   },
   "outputs": [],
   "source": [
    "# code here"
   ]
  },
  {
   "cell_type": "markdown",
   "metadata": {
    "deletable": false,
    "editable": false
   },
   "source": [
    "## Task 2: Ensemble Method [30 points]"
   ]
  },
  {
   "cell_type": "markdown",
   "metadata": {
    "deletable": false,
    "editable": false
   },
   "source": [
    "###  Apply the methods using sklearn library  \n",
    "\n",
    "- Split the data into training and testing sets (80-20%) \n",
    "- Train and test the model (have n_estimator = 100) for \n",
    "    - AdaBoost[15 points] \n",
    "    - Random Forest [15 points]\n"
   ]
  },
  {
   "cell_type": "code",
   "execution_count": 25,
   "metadata": {
    "deletable": false
   },
   "outputs": [],
   "source": [
    "def adaboost(data, label):\n",
    "    # code here\n",
    "    return\n",
    "\n",
    "def randomforest(data, label):\n",
    "    #code here\n",
    "    return"
   ]
  },
  {
   "cell_type": "markdown",
   "metadata": {
    "deletable": false,
    "editable": false
   },
   "source": [
    "##  Task 3: Evaluate the results [10 points]"
   ]
  },
  {
   "cell_type": "markdown",
   "metadata": {
    "deletable": false,
    "editable": false
   },
   "source": [
    "- Print the following for both adaboost and random forest [10 points]\n",
    "    - Accuracy (test)\n",
    "    - Classification report\n",
    "    - Confusion matrix as heatmap\n",
    "      \n",
    "- Which performed well adaboost or random forest? why? (answer below the code)[5 points]\n",
    " "
   ]
  },
  {
   "cell_type": "code",
   "execution_count": 26,
   "metadata": {
    "deletable": false
   },
   "outputs": [],
   "source": [
    "def evaluation(predict, test_label):\n",
    "    # code here\n",
    "    return\n",
    "\n",
    "# Compare accuracy between standardized data and w/o"
   ]
  },
  {
   "cell_type": "markdown",
   "metadata": {
    "deletable": false
   },
   "source": [
    "**Write the answer here**"
   ]
  },
  {
   "cell_type": "markdown",
   "metadata": {
    "deletable": false,
    "editable": false
   },
   "source": [
    "## Task 4: Complexity curve [15 points]\n",
    "- Plot the complexity curve for aacuracy score for 200 tree number [Refer lecture slide 9]\n",
    "    - Adaboost for test and train [10 points]\n",
    "    - Random forest for test and train [10 points]\n",
    "    \n",
    "Note:- This may take a lot of time and RAM kindly do it in google Colab if the laptop doesn't have GPU"
   ]
  },
  {
   "cell_type": "code",
   "execution_count": 28,
   "metadata": {
    "deletable": false
   },
   "outputs": [],
   "source": [
    "def complexity_curve(data, label, tree_number):\n",
    "    # code here\n",
    "    return\n",
    "\n",
    "# Do curve plots for adaboost and random forest"
   ]
  },
  {
   "cell_type": "markdown",
   "metadata": {
    "deletable": false,
    "editable": false
   },
   "source": [
    "## Task 5: Is your code generic? [10 points]\n",
    "- If need to perform the above operations but the extraction based on nest-3 will it do if the file name alone is changed?"
   ]
  },
  {
   "cell_type": "code",
   "execution_count": null,
   "metadata": {
    "deletable": false
   },
   "outputs": [],
   "source": [
    "filename = None\n",
    "data = extract_data(filename)\n",
    "predict, test_label = randomforest(data, label)\n",
    "evaluation(predict, test_label)\n",
    "complexity_curve(data, label, tree_number)"
   ]
  }
 ],
 "metadata": {
  "kernelspec": {
   "display_name": "Python 3",
   "language": "python",
   "name": "python3"
  },
  "language_info": {
   "codemirror_mode": {
    "name": "ipython",
    "version": 3
   },
   "file_extension": ".py",
   "mimetype": "text/x-python",
   "name": "python",
   "nbconvert_exporter": "python",
   "pygments_lexer": "ipython3",
   "version": "3.8.5"
  }
 },
 "nbformat": 4,
 "nbformat_minor": 4
}
